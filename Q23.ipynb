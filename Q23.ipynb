{
 "cells": [
  {
   "cell_type": "markdown",
   "id": "3580320e",
   "metadata": {},
   "source": [
    "# Question 23"
   ]
  },
  {
   "cell_type": "code",
   "execution_count": 66,
   "id": "61640282",
   "metadata": {},
   "outputs": [
    {
     "name": "stdout",
     "output_type": "stream",
     "text": [
      "*\n",
      "**\n",
      "*\n",
      "***\n",
      "*\n",
      "**\n",
      "*\n"
     ]
    }
   ],
   "source": [
    "def tough(x, n):\n",
    "    'prints the nth pattern and x is the indentation'\n",
    "    if n > 0 and x==0:\n",
    "        \n",
    "        tough(x, n-1) \n",
    "        print(n * '*')\n",
    "        tough(x, n-1)  \n",
    "tough(0, 3)"
   ]
  },
  {
   "cell_type": "code",
   "execution_count": null,
   "id": "88eda53a",
   "metadata": {},
   "outputs": [],
   "source": []
  }
 ],
 "metadata": {
  "kernelspec": {
   "display_name": "Python 3 (ipykernel)",
   "language": "python",
   "name": "python3"
  },
  "language_info": {
   "codemirror_mode": {
    "name": "ipython",
    "version": 3
   },
   "file_extension": ".py",
   "mimetype": "text/x-python",
   "name": "python",
   "nbconvert_exporter": "python",
   "pygments_lexer": "ipython3",
   "version": "3.11.5"
  }
 },
 "nbformat": 4,
 "nbformat_minor": 5
}
